{
 "cells": [
  {
   "cell_type": "code",
   "execution_count": 1,
   "metadata": {},
   "outputs": [
    {
     "ename": "ModuleNotFoundError",
     "evalue": "No module named 'descartes'",
     "output_type": "error",
     "traceback": [
      "\u001b[1;31m---------------------------------------------------------------------------\u001b[0m",
      "\u001b[1;31mModuleNotFoundError\u001b[0m                       Traceback (most recent call last)",
      "\u001b[1;32m<ipython-input-1-ae23302ab02d>\u001b[0m in \u001b[0;36m<module>\u001b[1;34m\u001b[0m\n\u001b[0;32m      3\u001b[0m \u001b[1;32mimport\u001b[0m \u001b[0mnumpy\u001b[0m \u001b[1;32mas\u001b[0m \u001b[0mnp\u001b[0m\u001b[1;33m\u001b[0m\u001b[1;33m\u001b[0m\u001b[0m\n\u001b[0;32m      4\u001b[0m \u001b[1;32mfrom\u001b[0m \u001b[0mcollections\u001b[0m \u001b[1;32mimport\u001b[0m \u001b[0mCounter\u001b[0m\u001b[1;33m\u001b[0m\u001b[1;33m\u001b[0m\u001b[0m\n\u001b[1;32m----> 5\u001b[1;33m \u001b[1;32mimport\u001b[0m \u001b[0mdescartes\u001b[0m\u001b[1;33m\u001b[0m\u001b[1;33m\u001b[0m\u001b[0m\n\u001b[0m\u001b[0;32m      6\u001b[0m \u001b[1;32mimport\u001b[0m \u001b[0mgeopandas\u001b[0m \u001b[1;32mas\u001b[0m \u001b[0mgpd\u001b[0m\u001b[1;33m\u001b[0m\u001b[1;33m\u001b[0m\u001b[0m\n\u001b[0;32m      7\u001b[0m \u001b[1;32mfrom\u001b[0m \u001b[0mshapely\u001b[0m\u001b[1;33m.\u001b[0m\u001b[0mgeometry\u001b[0m \u001b[1;32mimport\u001b[0m \u001b[0mPoint\u001b[0m\u001b[1;33m,\u001b[0m \u001b[0mPolygon\u001b[0m\u001b[1;33m,\u001b[0m \u001b[0mMultiPolygon\u001b[0m\u001b[1;33m,\u001b[0m \u001b[0mshape\u001b[0m\u001b[1;33m,\u001b[0m \u001b[0mPoint\u001b[0m\u001b[1;33m\u001b[0m\u001b[1;33m\u001b[0m\u001b[0m\n",
      "\u001b[1;31mModuleNotFoundError\u001b[0m: No module named 'descartes'"
     ]
    }
   ],
   "source": [
    "import pandas as pd\n",
    "import matplotlib.pyplot as plt\n",
    "import numpy as np\n",
    "from collections import Counter\n",
    "import descartes\n",
    "import geopandas as gpd\n",
    "from shapely.geometry import Point, Polygon, MultiPolygon, shape, Point\n",
    "import pyproj\n",
    "from functools import partial\n",
    "from shapely.ops import transform\n",
    "import seaborn as sns\n",
    "from sklearn.linear_model import LinearRegression\n",
    "from sklearn.model_selection import train_test_split\n",
    "from sklearn.metrics import r2_score, mean_squared_error\n",
    "from sklearn import linear_model\n",
    "from sklearn import svm\n",
    "\n",
    "\n",
    "%matplotlib inline"
   ]
  },
  {
   "cell_type": "code",
   "execution_count": null,
   "metadata": {},
   "outputs": [],
   "source": [
    "import pyproj\n",
    "from functools import partial\n",
    "from shapely.ops import transform\n"
   ]
  },
  {
   "cell_type": "code",
   "execution_count": null,
   "metadata": {},
   "outputs": [],
   "source": [
    "cost_paths_cars = pd.read_csv('cost_paths_cars.csv')\n",
    "cost_paths_cars = cost_paths_cars.drop(columns = ['Unnamed: 0'])\n",
    "cost_paths_cars.head()"
   ]
  },
  {
   "cell_type": "code",
   "execution_count": null,
   "metadata": {},
   "outputs": [],
   "source": [
    "equips_map = gpd.read_file('../pacote_USP/equips.shp')\n",
    "equips_map.head()"
   ]
  },
  {
   "cell_type": "code",
   "execution_count": null,
   "metadata": {},
   "outputs": [],
   "source": [
    "equips_map.crs"
   ]
  },
  {
   "cell_type": "code",
   "execution_count": null,
   "metadata": {},
   "outputs": [],
   "source": [
    "fig,ax = plt.subplots(figsize = (15,15))\n",
    "equips_map.plot(ax=ax);"
   ]
  },
  {
   "cell_type": "code",
   "execution_count": null,
   "metadata": {},
   "outputs": [],
   "source": [
    "def convert_3D_2D(geometry):\n",
    "    '''\n",
    "    Takes a GeoSeries of 3D Multi/Polygons (has_z) and returns a list of 2D Multi/Polygons\n",
    "    '''\n",
    "    new_geo = []\n",
    "    for p in geometry:\n",
    "        if p.has_z:\n",
    "            if p.geom_type == 'Polygon':\n",
    "                lines = [xy[:2] for xy in list(p.exterior.coords)]\n",
    "                new_p = Polygon(lines)\n",
    "                new_geo.append(new_p)\n",
    "            elif p.geom_type == 'MultiPolygon':\n",
    "                new_multi_p = []\n",
    "                for ap in p:\n",
    "                    lines = [xy[:2] for xy in list(ap.exterior.coords)]\n",
    "                    new_p = Polygon(lines)\n",
    "                    new_multi_p.append(new_p)\n",
    "                new_geo.append(MultiPolygon(new_multi_p))\n",
    "    return new_geo"
   ]
  },
  {
   "cell_type": "code",
   "execution_count": null,
   "metadata": {},
   "outputs": [],
   "source": [
    "sp_zones = gpd.read_file('../Shape/Zonas_2017_region.shp')\n",
    "sp_zones = sp_zones[sp_zones.NomeMunici == 'São Paulo']\n",
    "sp_zones.head()"
   ]
  },
  {
   "cell_type": "code",
   "execution_count": null,
   "metadata": {},
   "outputs": [],
   "source": [
    "sp_zones.crs = {'init': 'epsg:22523'}\n",
    "sp_zones = sp_zones.to_crs({'init': 'epsg:4326'})"
   ]
  },
  {
   "cell_type": "code",
   "execution_count": null,
   "metadata": {},
   "outputs": [],
   "source": [
    "fig,ax = plt.subplots(figsize = (15,15))\n",
    "sp_zones.plot(ax=ax);\n"
   ]
  },
  {
   "cell_type": "code",
   "execution_count": null,
   "metadata": {},
   "outputs": [],
   "source": [
    "equips_within_zones = gpd.sjoin(equips_map, sp_zones, how=\"inner\", op='intersects')\n",
    "equips_within_zones = equips_within_zones[['id','geometry','NumeroZona']]\n",
    "equips_within_zones.head()"
   ]
  },
  {
   "cell_type": "code",
   "execution_count": null,
   "metadata": {},
   "outputs": [],
   "source": [
    "equips_merged = pd.merge(cost_paths_cars,equips_within_zones, how = 'inner', left_on = 'last', \\\n",
    "                         right_on = 'id', right_index = False, left_index = False\n",
    "                        )\n",
    "equips_merged = equips_merged.rename(columns = { 'first':'fid', \\\n",
    "                                                'last':'lid','cat1':'vol', \\\n",
    "                                                'NumeroZona':'lzone'})[['geometry','fid','lid','vol','lzone','cost_f']]\n",
    "equips_merged.head()"
   ]
  },
  {
   "cell_type": "code",
   "execution_count": null,
   "metadata": {},
   "outputs": [],
   "source": [
    "fig,ax = plt.subplots(figsize = (15,15))\n",
    "sp_zones.plot(ax=ax, color = 'white', alpha = 0.25, linewidth=0.95, edgecolor='0.05',);\n",
    "equips_within_zones.plot(ax=ax, markersize=5, color= 'green', marker ='o', label = 'Equipamento');\n",
    "plt.axis('off');\n",
    "plt.legend(prop = {'size' : 15});"
   ]
  },
  {
   "cell_type": "code",
   "execution_count": null,
   "metadata": {},
   "outputs": [],
   "source": [
    "od_survey = pd.read_csv('../pesquisa_OD.csv', sep =';').dropna(how = 'all').replace('-',0)\n",
    "\n",
    "od_survey"
   ]
  },
  {
   "cell_type": "code",
   "execution_count": null,
   "metadata": {},
   "outputs": [],
   "source": [
    "equips_zones_data = pd.merge(equips_merged,od_survey, how = 'inner', left_on = 'lzone', \\\n",
    "                         right_on = 'zona', right_index = False, left_index = False\n",
    "                        )\n",
    "\n",
    "equips_zones_data"
   ]
  },
  {
   "cell_type": "code",
   "execution_count": null,
   "metadata": {},
   "outputs": [],
   "source": [
    "n= 10083\n",
    "equips_by_first = equips_zones_data[equips_zones_data.fid == n]\n",
    "\n",
    "equips_by_first = equips_by_first.drop(columns = ['geometry','fid','lid','lzone','zona','nome','municipio'])\n",
    "\n",
    "equips_by_first = equips_by_first.apply(pd.to_numeric, errors='ignore')\n",
    "\n",
    "equips_by_first = equips_by_first[equips_by_first.vol > 0]\n",
    "\n",
    "\n",
    "equips_by_first\n",
    "\n",
    "corr = equips_by_first.corr()\n",
    "corr_cols = list(corr['vol'].apply(lambda x : x if x > 0 else -x).sort_values(ascending=False)[1:11].index)\n",
    "corr_cols"
   ]
  },
  {
   "cell_type": "code",
   "execution_count": null,
   "metadata": {},
   "outputs": [],
   "source": [
    "X = equips_by_first[corr_cols]\n",
    "y = equips_by_first[['vol']]\n",
    "\n",
    "X_train, X_test, y_train, y_test = train_test_split(X, y, test_size = .30, random_state=42)\n",
    "\n",
    "\n"
   ]
  },
  {
   "cell_type": "code",
   "execution_count": null,
   "metadata": {},
   "outputs": [],
   "source": [
    "import numpy as np\n",
    "from sklearn import linear_model\n",
    "from sklearn import svm\n",
    "\n",
    "classifiers = [\n",
    "    svm.SVR(),\n",
    "    linear_model.SGDRegressor(),\n",
    "    linear_model.BayesianRidge(),\n",
    "    linear_model.LassoLars(),\n",
    "    linear_model.ARDRegression(),\n",
    "    linear_model.PassiveAggressiveRegressor(),\n",
    "    linear_model.TheilSenRegressor(),\n",
    "    linear_model.LinearRegression(normalize = True)]\n",
    "\n",
    "trainingData    = X_train\n",
    "trainingScores  = y_train\n",
    "predictionData  = X_test\n",
    "\n",
    "for item in classifiers:\n",
    "    print(item)\n",
    "    clf = item\n",
    "    clf.fit(trainingData, trainingScores.values.ravel())\n",
    "    predictionScore = clf.predict(predictionData)\n",
    "    r2 = r2_score(y_test,predictionScore)\n",
    "    print(r2)"
   ]
  },
  {
   "cell_type": "code",
   "execution_count": null,
   "metadata": {},
   "outputs": [],
   "source": [
    "\n",
    "trainingData    = X_train\n",
    "trainingScores  = y_train\n",
    "predictionData  = X_test\n",
    "\n",
    "\n",
    "clf = linear_model.TheilSenRegressor()\n",
    "clf.fit(trainingData, trainingScores.values.ravel())\n",
    "predictionScore = clf.predict(predictionData)\n",
    "r2 = r2_score(y_test,predictionScore)\n"
   ]
  },
  {
   "cell_type": "code",
   "execution_count": null,
   "metadata": {},
   "outputs": [],
   "source": [
    "m = pd.DataFrame(y_test)\n",
    "m['vol_calc'] = predictionScore\n",
    "m.head()"
   ]
  },
  {
   "cell_type": "code",
   "execution_count": null,
   "metadata": {},
   "outputs": [],
   "source": [
    "#TODO Aplicar modelo\n",
    "lm_model.coef_\n"
   ]
  }
 ],
 "metadata": {
  "kernelspec": {
   "display_name": "Python 3",
   "language": "python",
   "name": "python3"
  },
  "language_info": {
   "codemirror_mode": {
    "name": "ipython",
    "version": 3
   },
   "file_extension": ".py",
   "mimetype": "text/x-python",
   "name": "python",
   "nbconvert_exporter": "python",
   "pygments_lexer": "ipython3",
   "version": "3.7.3"
  }
 },
 "nbformat": 4,
 "nbformat_minor": 2
}
